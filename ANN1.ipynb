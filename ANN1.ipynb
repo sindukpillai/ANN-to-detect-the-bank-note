{
  "nbformat": 4,
  "nbformat_minor": 0,
  "metadata": {
    "colab": {
      "provenance": []
    },
    "kernelspec": {
      "name": "python3",
      "display_name": "Python 3"
    },
    "language_info": {
      "name": "python"
    },
    "accelerator": "GPU",
    "gpuClass": "standard"
  },
  "cells": [
    {
      "cell_type": "code",
      "execution_count": null,
      "metadata": {
        "colab": {
          "base_uri": "https://localhost:8080/"
        },
        "id": "Ol7cScfBdxgo",
        "outputId": "70d7b95c-7fb4-4e86-d390-36139d654c42"
      },
      "outputs": [
        {
          "output_type": "execute_result",
          "data": {
            "text/plain": [
              "0    762\n",
              "1    610\n",
              "Name: class, dtype: int64"
            ]
          },
          "metadata": {},
          "execution_count": 1
        }
      ],
      "source": [
        "import pandas as pd\n",
        "data=pd.read_csv(\"banknote.csv\")\n",
        "data['class'].value_counts()"
      ]
    },
    {
      "cell_type": "code",
      "source": [
        "#0 - original note\n",
        "#1 - fake note\n",
        "data.describe()"
      ],
      "metadata": {
        "colab": {
          "base_uri": "https://localhost:8080/",
          "height": 300
        },
        "id": "d5SkG3ZSgAXJ",
        "outputId": "b1b835eb-d740-40ce-9ec4-ac683a1e960d"
      },
      "execution_count": null,
      "outputs": [
        {
          "output_type": "execute_result",
          "data": {
            "text/plain": [
              "          variance     skewness     curtosis      entropy        class\n",
              "count  1372.000000  1372.000000  1372.000000  1372.000000  1372.000000\n",
              "mean      0.433735     1.922353     1.397627    -1.191657     0.444606\n",
              "std       2.842763     5.869047     4.310030     2.101013     0.497103\n",
              "min      -7.042100   -13.773100    -5.286100    -8.548200     0.000000\n",
              "25%      -1.773000    -1.708200    -1.574975    -2.413450     0.000000\n",
              "50%       0.496180     2.319650     0.616630    -0.586650     0.000000\n",
              "75%       2.821475     6.814625     3.179250     0.394810     1.000000\n",
              "max       6.824800    12.951600    17.927400     2.449500     1.000000"
            ],
            "text/html": [
              "\n",
              "  <div id=\"df-12cfd4ab-1ebc-4e15-96c5-b3536f49cb13\">\n",
              "    <div class=\"colab-df-container\">\n",
              "      <div>\n",
              "<style scoped>\n",
              "    .dataframe tbody tr th:only-of-type {\n",
              "        vertical-align: middle;\n",
              "    }\n",
              "\n",
              "    .dataframe tbody tr th {\n",
              "        vertical-align: top;\n",
              "    }\n",
              "\n",
              "    .dataframe thead th {\n",
              "        text-align: right;\n",
              "    }\n",
              "</style>\n",
              "<table border=\"1\" class=\"dataframe\">\n",
              "  <thead>\n",
              "    <tr style=\"text-align: right;\">\n",
              "      <th></th>\n",
              "      <th>variance</th>\n",
              "      <th>skewness</th>\n",
              "      <th>curtosis</th>\n",
              "      <th>entropy</th>\n",
              "      <th>class</th>\n",
              "    </tr>\n",
              "  </thead>\n",
              "  <tbody>\n",
              "    <tr>\n",
              "      <th>count</th>\n",
              "      <td>1372.000000</td>\n",
              "      <td>1372.000000</td>\n",
              "      <td>1372.000000</td>\n",
              "      <td>1372.000000</td>\n",
              "      <td>1372.000000</td>\n",
              "    </tr>\n",
              "    <tr>\n",
              "      <th>mean</th>\n",
              "      <td>0.433735</td>\n",
              "      <td>1.922353</td>\n",
              "      <td>1.397627</td>\n",
              "      <td>-1.191657</td>\n",
              "      <td>0.444606</td>\n",
              "    </tr>\n",
              "    <tr>\n",
              "      <th>std</th>\n",
              "      <td>2.842763</td>\n",
              "      <td>5.869047</td>\n",
              "      <td>4.310030</td>\n",
              "      <td>2.101013</td>\n",
              "      <td>0.497103</td>\n",
              "    </tr>\n",
              "    <tr>\n",
              "      <th>min</th>\n",
              "      <td>-7.042100</td>\n",
              "      <td>-13.773100</td>\n",
              "      <td>-5.286100</td>\n",
              "      <td>-8.548200</td>\n",
              "      <td>0.000000</td>\n",
              "    </tr>\n",
              "    <tr>\n",
              "      <th>25%</th>\n",
              "      <td>-1.773000</td>\n",
              "      <td>-1.708200</td>\n",
              "      <td>-1.574975</td>\n",
              "      <td>-2.413450</td>\n",
              "      <td>0.000000</td>\n",
              "    </tr>\n",
              "    <tr>\n",
              "      <th>50%</th>\n",
              "      <td>0.496180</td>\n",
              "      <td>2.319650</td>\n",
              "      <td>0.616630</td>\n",
              "      <td>-0.586650</td>\n",
              "      <td>0.000000</td>\n",
              "    </tr>\n",
              "    <tr>\n",
              "      <th>75%</th>\n",
              "      <td>2.821475</td>\n",
              "      <td>6.814625</td>\n",
              "      <td>3.179250</td>\n",
              "      <td>0.394810</td>\n",
              "      <td>1.000000</td>\n",
              "    </tr>\n",
              "    <tr>\n",
              "      <th>max</th>\n",
              "      <td>6.824800</td>\n",
              "      <td>12.951600</td>\n",
              "      <td>17.927400</td>\n",
              "      <td>2.449500</td>\n",
              "      <td>1.000000</td>\n",
              "    </tr>\n",
              "  </tbody>\n",
              "</table>\n",
              "</div>\n",
              "      <button class=\"colab-df-convert\" onclick=\"convertToInteractive('df-12cfd4ab-1ebc-4e15-96c5-b3536f49cb13')\"\n",
              "              title=\"Convert this dataframe to an interactive table.\"\n",
              "              style=\"display:none;\">\n",
              "        \n",
              "  <svg xmlns=\"http://www.w3.org/2000/svg\" height=\"24px\"viewBox=\"0 0 24 24\"\n",
              "       width=\"24px\">\n",
              "    <path d=\"M0 0h24v24H0V0z\" fill=\"none\"/>\n",
              "    <path d=\"M18.56 5.44l.94 2.06.94-2.06 2.06-.94-2.06-.94-.94-2.06-.94 2.06-2.06.94zm-11 1L8.5 8.5l.94-2.06 2.06-.94-2.06-.94L8.5 2.5l-.94 2.06-2.06.94zm10 10l.94 2.06.94-2.06 2.06-.94-2.06-.94-.94-2.06-.94 2.06-2.06.94z\"/><path d=\"M17.41 7.96l-1.37-1.37c-.4-.4-.92-.59-1.43-.59-.52 0-1.04.2-1.43.59L10.3 9.45l-7.72 7.72c-.78.78-.78 2.05 0 2.83L4 21.41c.39.39.9.59 1.41.59.51 0 1.02-.2 1.41-.59l7.78-7.78 2.81-2.81c.8-.78.8-2.07 0-2.86zM5.41 20L4 18.59l7.72-7.72 1.47 1.35L5.41 20z\"/>\n",
              "  </svg>\n",
              "      </button>\n",
              "      \n",
              "  <style>\n",
              "    .colab-df-container {\n",
              "      display:flex;\n",
              "      flex-wrap:wrap;\n",
              "      gap: 12px;\n",
              "    }\n",
              "\n",
              "    .colab-df-convert {\n",
              "      background-color: #E8F0FE;\n",
              "      border: none;\n",
              "      border-radius: 50%;\n",
              "      cursor: pointer;\n",
              "      display: none;\n",
              "      fill: #1967D2;\n",
              "      height: 32px;\n",
              "      padding: 0 0 0 0;\n",
              "      width: 32px;\n",
              "    }\n",
              "\n",
              "    .colab-df-convert:hover {\n",
              "      background-color: #E2EBFA;\n",
              "      box-shadow: 0px 1px 2px rgba(60, 64, 67, 0.3), 0px 1px 3px 1px rgba(60, 64, 67, 0.15);\n",
              "      fill: #174EA6;\n",
              "    }\n",
              "\n",
              "    [theme=dark] .colab-df-convert {\n",
              "      background-color: #3B4455;\n",
              "      fill: #D2E3FC;\n",
              "    }\n",
              "\n",
              "    [theme=dark] .colab-df-convert:hover {\n",
              "      background-color: #434B5C;\n",
              "      box-shadow: 0px 1px 3px 1px rgba(0, 0, 0, 0.15);\n",
              "      filter: drop-shadow(0px 1px 2px rgba(0, 0, 0, 0.3));\n",
              "      fill: #FFFFFF;\n",
              "    }\n",
              "  </style>\n",
              "\n",
              "      <script>\n",
              "        const buttonEl =\n",
              "          document.querySelector('#df-12cfd4ab-1ebc-4e15-96c5-b3536f49cb13 button.colab-df-convert');\n",
              "        buttonEl.style.display =\n",
              "          google.colab.kernel.accessAllowed ? 'block' : 'none';\n",
              "\n",
              "        async function convertToInteractive(key) {\n",
              "          const element = document.querySelector('#df-12cfd4ab-1ebc-4e15-96c5-b3536f49cb13');\n",
              "          const dataTable =\n",
              "            await google.colab.kernel.invokeFunction('convertToInteractive',\n",
              "                                                     [key], {});\n",
              "          if (!dataTable) return;\n",
              "\n",
              "          const docLinkHtml = 'Like what you see? Visit the ' +\n",
              "            '<a target=\"_blank\" href=https://colab.research.google.com/notebooks/data_table.ipynb>data table notebook</a>'\n",
              "            + ' to learn more about interactive tables.';\n",
              "          element.innerHTML = '';\n",
              "          dataTable['output_type'] = 'display_data';\n",
              "          await google.colab.output.renderOutput(dataTable, element);\n",
              "          const docLink = document.createElement('div');\n",
              "          docLink.innerHTML = docLinkHtml;\n",
              "          element.appendChild(docLink);\n",
              "        }\n",
              "      </script>\n",
              "    </div>\n",
              "  </div>\n",
              "  "
            ]
          },
          "metadata": {},
          "execution_count": 7
        }
      ]
    },
    {
      "cell_type": "code",
      "source": [
        "y=data['class']\n",
        "x=data[['variance','skewness','curtosis','entropy'\t]]\n"
      ],
      "metadata": {
        "id": "tK3g2k27gaTg"
      },
      "execution_count": null,
      "outputs": []
    },
    {
      "cell_type": "code",
      "source": [
        "\n"
      ],
      "metadata": {
        "id": "AXQ5leYNgsV_"
      },
      "execution_count": null,
      "outputs": []
    },
    {
      "cell_type": "markdown",
      "source": [
        "#architecture\n"
      ],
      "metadata": {
        "id": "5oG305F8hVQm"
      }
    },
    {
      "cell_type": "code",
      "source": [
        "from tensorflow.keras.layers import Dense\n",
        "from tensorflow.keras.models import Sequential\n"
      ],
      "metadata": {
        "id": "aoBQ5x-thXCU"
      },
      "execution_count": null,
      "outputs": []
    },
    {
      "cell_type": "code",
      "source": [
        "model1=Sequential()\n"
      ],
      "metadata": {
        "id": "IoisHeoOh30g"
      },
      "execution_count": null,
      "outputs": []
    },
    {
      "cell_type": "code",
      "source": [],
      "metadata": {
        "id": "gyohOqloiQnH"
      },
      "execution_count": null,
      "outputs": []
    },
    {
      "cell_type": "code",
      "source": [
        "model1.add(Dense(8,input_shape=(4,),activation=\"relu\"))\n",
        "model1.add(Dense(8,activation=\"relu\"))\n",
        "model1.add(Dense(1,activation=\"sigmoid\"))\n",
        "model1.summary()\n"
      ],
      "metadata": {
        "colab": {
          "base_uri": "https://localhost:8080/"
        },
        "id": "a7lfhoi0kFYF",
        "outputId": "36f00a25-0101-4960-d25e-75d56c2b267e"
      },
      "execution_count": null,
      "outputs": [
        {
          "output_type": "stream",
          "name": "stdout",
          "text": [
            "Model: \"sequential_1\"\n",
            "_________________________________________________________________\n",
            " Layer (type)                Output Shape              Param #   \n",
            "=================================================================\n",
            " dense_3 (Dense)             (None, 8)                 40        \n",
            "                                                                 \n",
            " dense_4 (Dense)             (None, 8)                 72        \n",
            "                                                                 \n",
            " dense_5 (Dense)             (None, 1)                 9         \n",
            "                                                                 \n",
            "=================================================================\n",
            "Total params: 121\n",
            "Trainable params: 121\n",
            "Non-trainable params: 0\n",
            "_________________________________________________________________\n"
          ]
        }
      ]
    },
    {
      "cell_type": "code",
      "source": [
        "model1.compile(optimizer=\"sgd\",loss=\"binary_crossentropy\",metrics=['accuracy'])\n"
      ],
      "metadata": {
        "id": "GuJcrMujqTt8"
      },
      "execution_count": null,
      "outputs": []
    },
    {
      "cell_type": "code",
      "source": [
        "model1.fit(x,y,epochs=20)"
      ],
      "metadata": {
        "colab": {
          "base_uri": "https://localhost:8080/"
        },
        "id": "LRhmw9S-qO7Y",
        "outputId": "c1c20028-6e64-47f7-ea88-17c8fb6127ed"
      },
      "execution_count": null,
      "outputs": [
        {
          "output_type": "stream",
          "name": "stdout",
          "text": [
            "Epoch 1/20\n",
            "43/43 [==============================] - 3s 3ms/step - loss: 0.7879 - accuracy: 0.4213\n",
            "Epoch 2/20\n",
            "43/43 [==============================] - 0s 3ms/step - loss: 0.6602 - accuracy: 0.5525\n",
            "Epoch 3/20\n",
            "43/43 [==============================] - 0s 3ms/step - loss: 0.6105 - accuracy: 0.7733\n",
            "Epoch 4/20\n",
            "43/43 [==============================] - 0s 3ms/step - loss: 0.5803 - accuracy: 0.8302\n",
            "Epoch 5/20\n",
            "43/43 [==============================] - 0s 3ms/step - loss: 0.5551 - accuracy: 0.8477\n",
            "Epoch 6/20\n",
            "43/43 [==============================] - 0s 3ms/step - loss: 0.5315 - accuracy: 0.8695\n",
            "Epoch 7/20\n",
            "43/43 [==============================] - 0s 3ms/step - loss: 0.5082 - accuracy: 0.8790\n",
            "Epoch 8/20\n",
            "43/43 [==============================] - 0s 3ms/step - loss: 0.4844 - accuracy: 0.8907\n",
            "Epoch 9/20\n",
            "43/43 [==============================] - 0s 3ms/step - loss: 0.4601 - accuracy: 0.9001\n",
            "Epoch 10/20\n",
            "43/43 [==============================] - 0s 3ms/step - loss: 0.4360 - accuracy: 0.9140\n",
            "Epoch 11/20\n",
            "43/43 [==============================] - 0s 3ms/step - loss: 0.4132 - accuracy: 0.9227\n",
            "Epoch 12/20\n",
            "43/43 [==============================] - 0s 3ms/step - loss: 0.3913 - accuracy: 0.9344\n",
            "Epoch 13/20\n",
            "43/43 [==============================] - 0s 3ms/step - loss: 0.3705 - accuracy: 0.9395\n",
            "Epoch 14/20\n",
            "43/43 [==============================] - 0s 3ms/step - loss: 0.3510 - accuracy: 0.9483\n",
            "Epoch 15/20\n",
            "43/43 [==============================] - 0s 2ms/step - loss: 0.3328 - accuracy: 0.9497\n",
            "Epoch 16/20\n",
            "43/43 [==============================] - 0s 3ms/step - loss: 0.3159 - accuracy: 0.9555\n",
            "Epoch 17/20\n",
            "43/43 [==============================] - 0s 3ms/step - loss: 0.3000 - accuracy: 0.9614\n",
            "Epoch 18/20\n",
            "43/43 [==============================] - 0s 3ms/step - loss: 0.2851 - accuracy: 0.9643\n",
            "Epoch 19/20\n",
            "43/43 [==============================] - 0s 3ms/step - loss: 0.2712 - accuracy: 0.9650\n",
            "Epoch 20/20\n",
            "43/43 [==============================] - 0s 3ms/step - loss: 0.2584 - accuracy: 0.9665\n"
          ]
        },
        {
          "output_type": "execute_result",
          "data": {
            "text/plain": [
              "<keras.callbacks.History at 0x7fb7407af9a0>"
            ]
          },
          "metadata": {},
          "execution_count": 13
        }
      ]
    },
    {
      "cell_type": "code",
      "source": [
        "model2=Sequential()"
      ],
      "metadata": {
        "id": "3DRaRD9dryR7"
      },
      "execution_count": null,
      "outputs": []
    },
    {
      "cell_type": "code",
      "source": [
        "model2.add(Dense(16,input_shape=(4,),activation=\"relu\"))\n",
        "model2.add(Dense(16,activation=\"relu\"))\n",
        "model2.add(Dense(1,activation=\"sigmoid\"))\n",
        "model2.summary()"
      ],
      "metadata": {
        "colab": {
          "base_uri": "https://localhost:8080/"
        },
        "id": "fGRP7wfPr3Nx",
        "outputId": "b3216c12-1097-422f-a1f6-58072afa97b4"
      },
      "execution_count": null,
      "outputs": [
        {
          "output_type": "stream",
          "name": "stdout",
          "text": [
            "Model: \"sequential_2\"\n",
            "_________________________________________________________________\n",
            " Layer (type)                Output Shape              Param #   \n",
            "=================================================================\n",
            " dense_6 (Dense)             (None, 16)                80        \n",
            "                                                                 \n",
            " dense_7 (Dense)             (None, 16)                272       \n",
            "                                                                 \n",
            " dense_8 (Dense)             (None, 1)                 17        \n",
            "                                                                 \n",
            "=================================================================\n",
            "Total params: 369\n",
            "Trainable params: 369\n",
            "Non-trainable params: 0\n",
            "_________________________________________________________________\n"
          ]
        }
      ]
    },
    {
      "cell_type": "code",
      "source": [
        "model2.compile(optimizer=\"sgd\",loss=\"binary_crossentropy\",metrics=['accuracy'])"
      ],
      "metadata": {
        "id": "3LcXl4YesCeZ"
      },
      "execution_count": null,
      "outputs": []
    },
    {
      "cell_type": "code",
      "source": [
        "model2.fit(x,y,epochs=25)"
      ],
      "metadata": {
        "colab": {
          "base_uri": "https://localhost:8080/"
        },
        "id": "zmO5V4DZsI8Q",
        "outputId": "fbd73273-b522-4d74-a9a6-281bc1ae46b8"
      },
      "execution_count": null,
      "outputs": [
        {
          "output_type": "stream",
          "name": "stdout",
          "text": [
            "Epoch 1/25\n",
            "43/43 [==============================] - 0s 3ms/step - loss: 0.5980 - accuracy: 0.7420\n",
            "Epoch 2/25\n",
            "43/43 [==============================] - 0s 3ms/step - loss: 0.3290 - accuracy: 0.9176\n",
            "Epoch 3/25\n",
            "43/43 [==============================] - 0s 3ms/step - loss: 0.2490 - accuracy: 0.9417\n",
            "Epoch 4/25\n",
            "43/43 [==============================] - 0s 3ms/step - loss: 0.1974 - accuracy: 0.9541\n",
            "Epoch 5/25\n",
            "43/43 [==============================] - 0s 3ms/step - loss: 0.1619 - accuracy: 0.9621\n",
            "Epoch 6/25\n",
            "43/43 [==============================] - 0s 2ms/step - loss: 0.1365 - accuracy: 0.9723\n",
            "Epoch 7/25\n",
            "43/43 [==============================] - 0s 3ms/step - loss: 0.1179 - accuracy: 0.9752\n",
            "Epoch 8/25\n",
            "43/43 [==============================] - 0s 3ms/step - loss: 0.1032 - accuracy: 0.9796\n",
            "Epoch 9/25\n",
            "43/43 [==============================] - 0s 3ms/step - loss: 0.0915 - accuracy: 0.9818\n",
            "Epoch 10/25\n",
            "43/43 [==============================] - 0s 3ms/step - loss: 0.0820 - accuracy: 0.9847\n",
            "Epoch 11/25\n",
            "43/43 [==============================] - 0s 3ms/step - loss: 0.0740 - accuracy: 0.9862\n",
            "Epoch 12/25\n",
            "43/43 [==============================] - 0s 3ms/step - loss: 0.0672 - accuracy: 0.9876\n",
            "Epoch 13/25\n",
            "43/43 [==============================] - 0s 3ms/step - loss: 0.0615 - accuracy: 0.9883\n",
            "Epoch 14/25\n",
            "43/43 [==============================] - 0s 3ms/step - loss: 0.0565 - accuracy: 0.9891\n",
            "Epoch 15/25\n",
            "43/43 [==============================] - 0s 3ms/step - loss: 0.0523 - accuracy: 0.9891\n",
            "Epoch 16/25\n",
            "43/43 [==============================] - 0s 3ms/step - loss: 0.0486 - accuracy: 0.9913\n",
            "Epoch 17/25\n",
            "43/43 [==============================] - 0s 3ms/step - loss: 0.0452 - accuracy: 0.9934\n",
            "Epoch 18/25\n",
            "43/43 [==============================] - 0s 3ms/step - loss: 0.0423 - accuracy: 0.9949\n",
            "Epoch 19/25\n",
            "43/43 [==============================] - 0s 3ms/step - loss: 0.0398 - accuracy: 0.9956\n",
            "Epoch 20/25\n",
            "43/43 [==============================] - 0s 2ms/step - loss: 0.0374 - accuracy: 0.9964\n",
            "Epoch 21/25\n",
            "43/43 [==============================] - 0s 3ms/step - loss: 0.0353 - accuracy: 0.9964\n",
            "Epoch 22/25\n",
            "43/43 [==============================] - 0s 3ms/step - loss: 0.0334 - accuracy: 0.9985\n",
            "Epoch 23/25\n",
            "43/43 [==============================] - 0s 3ms/step - loss: 0.0317 - accuracy: 1.0000\n",
            "Epoch 24/25\n",
            "43/43 [==============================] - 0s 3ms/step - loss: 0.0301 - accuracy: 1.0000\n",
            "Epoch 25/25\n",
            "43/43 [==============================] - 0s 3ms/step - loss: 0.0287 - accuracy: 1.0000\n"
          ]
        },
        {
          "output_type": "execute_result",
          "data": {
            "text/plain": [
              "<keras.callbacks.History at 0x7fb6cd0944c0>"
            ]
          },
          "metadata": {},
          "execution_count": 17
        }
      ]
    },
    {
      "cell_type": "code",
      "source": [
        "from sklearn.model_selection import train_test_split\n",
        "x_train,x_test,y_train,y_test=train_test_split(x,y,test_size=.2,random_state=134)\n"
      ],
      "metadata": {
        "id": "ye_sjCfSsXRH"
      },
      "execution_count": null,
      "outputs": []
    },
    {
      "cell_type": "code",
      "source": [
        "model3=Sequential()"
      ],
      "metadata": {
        "id": "kJ9Df-aGtABN"
      },
      "execution_count": null,
      "outputs": []
    },
    {
      "cell_type": "code",
      "source": [
        "model3.add(Dense(16,input_shape=(4,),activation=\"relu\"))\n",
        "model3.add(Dense(16,activation=\"relu\"))\n",
        "model3.add(Dense(8,activation=\"relu\"))\n",
        "model3.add(Dense(1,activation=\"sigmoid\"))\n",
        "model3.summary()"
      ],
      "metadata": {
        "colab": {
          "base_uri": "https://localhost:8080/"
        },
        "id": "4YbefpFZtHUG",
        "outputId": "38677001-6051-43e0-f8ed-12fd16fe512b"
      },
      "execution_count": null,
      "outputs": [
        {
          "output_type": "stream",
          "name": "stdout",
          "text": [
            "Model: \"sequential_3\"\n",
            "_________________________________________________________________\n",
            " Layer (type)                Output Shape              Param #   \n",
            "=================================================================\n",
            " dense_11 (Dense)            (None, 16)                80        \n",
            "                                                                 \n",
            " dense_12 (Dense)            (None, 16)                272       \n",
            "                                                                 \n",
            " dense_13 (Dense)            (None, 8)                 136       \n",
            "                                                                 \n",
            " dense_14 (Dense)            (None, 1)                 9         \n",
            "                                                                 \n",
            "=================================================================\n",
            "Total params: 497\n",
            "Trainable params: 497\n",
            "Non-trainable params: 0\n",
            "_________________________________________________________________\n"
          ]
        }
      ]
    },
    {
      "cell_type": "code",
      "source": [
        "model3.compile(optimizer=\"adam\",loss=\"binary_crossentropy\",metrics=['accuracy'])"
      ],
      "metadata": {
        "id": "8mQuXCJgtRMx"
      },
      "execution_count": null,
      "outputs": []
    },
    {
      "cell_type": "code",
      "source": [
        "model3.fit(x_train,y_train,epochs=20)"
      ],
      "metadata": {
        "colab": {
          "base_uri": "https://localhost:8080/"
        },
        "id": "XBPQSe1QucpF",
        "outputId": "76c8125e-c005-444c-9e88-896171b842a3"
      },
      "execution_count": null,
      "outputs": [
        {
          "output_type": "stream",
          "name": "stdout",
          "text": [
            "Epoch 1/20\n",
            "35/35 [==============================] - 1s 3ms/step - loss: 0.6931 - accuracy: 0.5196\n",
            "Epoch 2/20\n",
            "35/35 [==============================] - 0s 3ms/step - loss: 0.5414 - accuracy: 0.6463\n",
            "Epoch 3/20\n",
            "35/35 [==============================] - 0s 3ms/step - loss: 0.4224 - accuracy: 0.8149\n",
            "Epoch 4/20\n",
            "35/35 [==============================] - 0s 3ms/step - loss: 0.2793 - accuracy: 0.9389\n",
            "Epoch 5/20\n",
            "35/35 [==============================] - 0s 3ms/step - loss: 0.1401 - accuracy: 0.9763\n",
            "Epoch 6/20\n",
            "35/35 [==============================] - 0s 3ms/step - loss: 0.0689 - accuracy: 0.9900\n",
            "Epoch 7/20\n",
            "35/35 [==============================] - 0s 3ms/step - loss: 0.0381 - accuracy: 0.9991\n",
            "Epoch 8/20\n",
            "35/35 [==============================] - 0s 3ms/step - loss: 0.0245 - accuracy: 0.9991\n",
            "Epoch 9/20\n",
            "35/35 [==============================] - 0s 3ms/step - loss: 0.0172 - accuracy: 1.0000\n",
            "Epoch 10/20\n",
            "35/35 [==============================] - 0s 3ms/step - loss: 0.0128 - accuracy: 1.0000\n",
            "Epoch 11/20\n",
            "35/35 [==============================] - 0s 3ms/step - loss: 0.0099 - accuracy: 1.0000\n",
            "Epoch 12/20\n",
            "35/35 [==============================] - 0s 3ms/step - loss: 0.0079 - accuracy: 1.0000\n",
            "Epoch 13/20\n",
            "35/35 [==============================] - 0s 4ms/step - loss: 0.0063 - accuracy: 1.0000\n",
            "Epoch 14/20\n",
            "35/35 [==============================] - 0s 3ms/step - loss: 0.0052 - accuracy: 1.0000\n",
            "Epoch 15/20\n",
            "35/35 [==============================] - 0s 3ms/step - loss: 0.0044 - accuracy: 1.0000\n",
            "Epoch 16/20\n",
            "35/35 [==============================] - 0s 3ms/step - loss: 0.0038 - accuracy: 1.0000\n",
            "Epoch 17/20\n",
            "35/35 [==============================] - 0s 3ms/step - loss: 0.0033 - accuracy: 1.0000\n",
            "Epoch 18/20\n",
            "35/35 [==============================] - 0s 3ms/step - loss: 0.0029 - accuracy: 1.0000\n",
            "Epoch 19/20\n",
            "35/35 [==============================] - 0s 3ms/step - loss: 0.0025 - accuracy: 1.0000\n",
            "Epoch 20/20\n",
            "35/35 [==============================] - 0s 3ms/step - loss: 0.0023 - accuracy: 1.0000\n"
          ]
        },
        {
          "output_type": "execute_result",
          "data": {
            "text/plain": [
              "<keras.callbacks.History at 0x7fb6bedf8be0>"
            ]
          },
          "metadata": {},
          "execution_count": 26
        }
      ]
    },
    {
      "cell_type": "code",
      "source": [
        "model3.evaluate(x_test,y_test)"
      ],
      "metadata": {
        "colab": {
          "base_uri": "https://localhost:8080/"
        },
        "id": "fRlTZtFJunNK",
        "outputId": "20aa4d31-0a2e-48dd-f180-475c4c3a46bf"
      },
      "execution_count": null,
      "outputs": [
        {
          "output_type": "stream",
          "name": "stdout",
          "text": [
            "9/9 [==============================] - 0s 3ms/step - loss: 0.0067 - accuracy: 1.0000\n"
          ]
        },
        {
          "output_type": "execute_result",
          "data": {
            "text/plain": [
              "[0.006698283366858959, 1.0]"
            ]
          },
          "metadata": {},
          "execution_count": 27
        }
      ]
    }
  ]
}